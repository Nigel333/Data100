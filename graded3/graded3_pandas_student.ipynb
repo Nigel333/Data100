{
  "cells": [
    {
      "cell_type": "markdown",
      "id": "174e376c",
      "metadata": {
        "id": "174e376c"
      },
      "source": [
        "# Zomato Exercise"
      ]
    },
    {
      "cell_type": "markdown",
      "id": "2d84fdf3",
      "metadata": {
        "id": "2d84fdf3"
      },
      "source": [
        "Zomato is a restaurant aggregator website. The platform provides information, menus and user-reviews of restaurants as well as food delivery options from partner restaurants in select cities. You have been provided 3 datasets:\n",
        "\n",
        "- zomato.csv contains restaurant information like average_cost_for_two, cuisines\n",
        "- location.csv contains location of the restaurants like address, city, locality & etc\n",
        "- ratings.csv contains aggregate rating for each restaurant\n",
        "\n",
        "The different files are connected using the `id` columns which can be found in the different files. The id column is a unique identifier to represent a restaurant. You can use this to **merge** the different files."
      ]
    },
    {
      "cell_type": "code",
      "execution_count": 70,
      "id": "5337de5f",
      "metadata": {
        "id": "5337de5f"
      },
      "outputs": [],
      "source": [
        "import pandas as pd\n",
        "import numpy as np"
      ]
    },
    {
      "cell_type": "markdown",
      "id": "77605fbc",
      "metadata": {
        "id": "77605fbc"
      },
      "source": [
        "1. Merge the zomato, location & ratings file into a signle dataframe and store it to the `merged_df` variable **(3pts)**"
      ]
    },
    {
      "cell_type": "code",
      "execution_count": 71,
      "id": "ddbd0bb1",
      "metadata": {
        "id": "ddbd0bb1"
      },
      "outputs": [],
      "source": [
        "zomato_df = pd.read_csv('zomato.csv')\n",
        "location_df = pd.read_csv('location.csv')\n",
        "ratings_df = pd.read_csv('ratings.csv')\n",
        "\n",
        "merged_df = pd.merge(zomato_df, location_df, on='id', how='inner')\n",
        "merged_df = pd.merge(merged_df, ratings_df, on='id', how='inner')"
      ]
    },
    {
      "cell_type": "code",
      "execution_count": 72,
      "id": "b2a86a44",
      "metadata": {
        "id": "b2a86a44"
      },
      "outputs": [],
      "source": [
        "assert (6830, 35)==merged_df.shape\n",
        "\n",
        "cols = ['id', 'address', 'city', 'city_id', 'country_id', 'latitude',\n",
        "       'locality', 'locality_verbose', 'longitude', 'zipcode',\n",
        "       'aggregate_rating', 'rating_color', 'rating_text', 'votes',\n",
        "       'average_cost_for_two', 'book_url', 'cuisines', 'currency', 'deeplink',\n",
        "       'events_url', 'featured_image', 'has_online_delivery',\n",
        "       'has_table_booking', 'include_bogo_offers', 'is_book_form_web_view',\n",
        "       'is_delivering_now', 'is_table_reservation_supported',\n",
        "       'is_zomato_book_res', 'menu_url', 'mezzo_provider', 'name',\n",
        "       'photos_url', 'price_range', 'thumb', 'url']\n",
        "\n",
        "assert sorted(merged_df.columns) == sorted(cols)\n"
      ]
    },
    {
      "cell_type": "markdown",
      "id": "02223abe",
      "metadata": {
        "id": "02223abe"
      },
      "source": [
        "2. Create a function that returns the average aggregate rating for each city. Expected returned value is a Series datatype which contains name of city as index and average aggregate rating as value. **(2pts)**"
      ]
    },
    {
      "cell_type": "code",
      "execution_count": 73,
      "id": "bd7d8f34",
      "metadata": {
        "id": "bd7d8f34"
      },
      "outputs": [],
      "source": [
        "def exercise_2(merged_df):\n",
        "    aveAggRate = merged_df.groupby('city')['aggregate_rating'].mean()\n",
        "    return aveAggRate"
      ]
    },
    {
      "cell_type": "code",
      "execution_count": 74,
      "id": "10e5b4c1",
      "metadata": {
        "id": "10e5b4c1"
      },
      "outputs": [],
      "source": [
        "res_series = exercise_2(merged_df)\n",
        "assert True == np.isclose(3.302075, res_series[res_series.index == 'Pasay City'],\n",
        "                          rtol=1e-05, atol=1e-08, equal_nan=False)[0]\n",
        "assert True == np.isclose(1.890741, res_series[res_series.index == 'Valenzuela City'],\n",
        "                          rtol=1e-05, atol=1e-08, equal_nan=False)[0]\n",
        "assert True == np.isclose(1.558333, res_series[res_series.index == 'Malabon City'],\n",
        "                          rtol=1e-05, atol=1e-08, equal_nan=False)[0]"
      ]
    },
    {
      "cell_type": "markdown",
      "id": "5db591ac",
      "metadata": {
        "id": "5db591ac"
      },
      "source": [
        "3. Using the apply function of pandas convert the rating_text to a numeric equivalent. You are to introduce a new column in merged_df called `rating_numeric` which is based on the value from rating_text: **(3pts)**\n",
        "\n",
        "Excellent = 5 <br>\n",
        "Very Good = 4 <br>\n",
        "Good = 3 <br>\n",
        "Average = 2 <br>\n",
        "Poor = 1 <br>\n",
        "Not rated = 0 <br>"
      ]
    },
    {
      "cell_type": "code",
      "execution_count": 75,
      "id": "41293771",
      "metadata": {
        "id": "41293771"
      },
      "outputs": [],
      "source": [
        "def convert_rating_to_numeric(rating):\n",
        "    rating_dict = {\n",
        "        'Excellent': 5,\n",
        "        'Very Good': 4,\n",
        "        'Good': 3,\n",
        "        'Average': 2,\n",
        "        'Poor': 1,\n",
        "        'Not rated': 0\n",
        "    }\n",
        "    return rating_dict.get(rating, 0) \n",
        "\n",
        "merged_df['rating_numeric'] = merged_df['rating_text'].apply(convert_rating_to_numeric)"
      ]
    },
    {
      "cell_type": "code",
      "execution_count": 76,
      "id": "c62df922",
      "metadata": {
        "id": "c62df922"
      },
      "outputs": [],
      "source": [
        "assert 868 == merged_df[merged_df.rating_numeric == 0].shape[0]\n",
        "assert True == ('rating_numeric' in merged_df.columns)"
      ]
    },
    {
      "cell_type": "markdown",
      "id": "97ec4197",
      "metadata": {
        "id": "97ec4197"
      },
      "source": [
        "4. Create a function which filters the merged dataframe to only contain rows coming in from a specific city. Expected returned value is a dataframe **(2pts)**"
      ]
    },
    {
      "cell_type": "code",
      "execution_count": 77,
      "id": "9773b18e",
      "metadata": {
        "id": "9773b18e"
      },
      "outputs": [],
      "source": [
        "def exercise_4(merged_df, city):\n",
        "    filtered_df = merged_df[merged_df['city'] == city]\n",
        "    return filtered_df"
      ]
    },
    {
      "cell_type": "code",
      "execution_count": 78,
      "id": "1ca29a81",
      "metadata": {
        "id": "1ca29a81"
      },
      "outputs": [],
      "source": [
        "\n",
        "assert 'Makati City' == exercise_4(merged_df, 'Makati City').city.unique()[0]\n",
        "assert (976, 36) == exercise_4(merged_df, 'Makati City').shape\n",
        "\n",
        "assert 'Mandaluyong City' == exercise_4(merged_df, 'Mandaluyong City').city.unique()[0]\n",
        "assert (443, 36) == exercise_4(merged_df, 'Mandaluyong City').shape\n",
        "\n",
        "assert (0, 36) == exercise_4(merged_df, 'Quezon  City').shape"
      ]
    },
    {
      "cell_type": "markdown",
      "id": "ca7bf3c1",
      "metadata": {
        "id": "ca7bf3c1"
      },
      "source": [
        "5. Create a function to filter the dataframe to only contain certain columns passed in the function. Expected returned value is a dataframe **(1pt)**"
      ]
    },
    {
      "cell_type": "code",
      "execution_count": 79,
      "id": "59787577",
      "metadata": {
        "id": "59787577"
      },
      "outputs": [],
      "source": [
        "def exercise_5(merged_df, cols_to_filter):\n",
        "    filtered_df = merged_df[cols_to_filter]\n",
        "    return filtered_df"
      ]
    },
    {
      "cell_type": "code",
      "execution_count": 80,
      "id": "da27c054",
      "metadata": {
        "id": "da27c054"
      },
      "outputs": [],
      "source": [
        "cols = ['name', 'cuisines', 'city', 'aggregate_rating']\n",
        "assert sorted(cols) == sorted(exercise_5(merged_df, cols).columns)\n",
        "assert (6830, 4) == exercise_5(merged_df, cols).shape\n",
        "\n",
        "cols = ['average_cost_for_two', 'book_url', 'cuisines', 'currency', 'deeplink',\n",
        "       'events_url', 'featured_image', 'has_online_delivery',\n",
        "       'has_table_booking', 'include_bogo_offers', 'is_book_form_web_view']\n",
        "assert sorted(cols) == sorted(exercise_5(merged_df, cols).columns)\n",
        "assert (6830, 11) == exercise_5(merged_df, cols).shape\n"
      ]
    },
    {
      "cell_type": "markdown",
      "id": "d69c7e2e",
      "metadata": {
        "id": "d69c7e2e"
      },
      "source": [
        "6.  What is the most common restaurant name in the dataset? **(2pts)** Write down your answer and show code used to come up with the answer."
      ]
    },
    {
      "cell_type": "markdown",
      "id": "fb155eba",
      "metadata": {},
      "source": [
        "Answer: Starbucks"
      ]
    },
    {
      "cell_type": "code",
      "execution_count": 81,
      "id": "cf9cdab1",
      "metadata": {
        "id": "cf9cdab1"
      },
      "outputs": [
        {
          "name": "stdout",
          "output_type": "stream",
          "text": [
            "Starbucks\n"
          ]
        }
      ],
      "source": [
        "comRest = merged_df['name'].value_counts().idxmax()\n",
        "print(comRest)"
      ]
    },
    {
      "cell_type": "markdown",
      "id": "7675b4b1",
      "metadata": {
        "id": "7675b4b1"
      },
      "source": [
        "7. Which restaurant has the most expensive average cost for two? **(2pts)** Write down your answer and show code used to come up with the answer."
      ]
    },
    {
      "cell_type": "markdown",
      "id": "4bd8ff34",
      "metadata": {},
      "source": [
        "Answer: The Tasting Room"
      ]
    },
    {
      "cell_type": "code",
      "execution_count": 82,
      "id": "b447b440",
      "metadata": {
        "id": "b447b440"
      },
      "outputs": [
        {
          "name": "stdout",
          "output_type": "stream",
          "text": [
            "The Tasting Room\n"
          ]
        }
      ],
      "source": [
        "expCost = merged_df.loc[merged_df['average_cost_for_two'].idxmax()]\n",
        "print(expCost['name'])"
      ]
    },
    {
      "cell_type": "markdown",
      "id": "af873fb7",
      "metadata": {
        "id": "af873fb7"
      },
      "source": [
        "8. How many restaurants do not have a zipcode? **(1pt)** Write down your answer and show code used to come up with the answer."
      ]
    },
    {
      "cell_type": "markdown",
      "id": "7c6ac9c7",
      "metadata": {},
      "source": [
        "6713"
      ]
    },
    {
      "cell_type": "code",
      "execution_count": 83,
      "id": "43f1234a",
      "metadata": {
        "id": "43f1234a"
      },
      "outputs": [
        {
          "name": "stdout",
          "output_type": "stream",
          "text": [
            "6713\n"
          ]
        }
      ],
      "source": [
        "noZip = merged_df[merged_df['zipcode'].isnull()]\n",
        "print(noZip.shape[0])"
      ]
    },
    {
      "cell_type": "markdown",
      "id": "9347ac03",
      "metadata": {
        "id": "9347ac03"
      },
      "source": [
        "9. How many restaurants in the dataset allow online delivery? **(1pt)** Write down your answer and show code used to come up with the answer."
      ]
    },
    {
      "cell_type": "markdown",
      "id": "f4095292",
      "metadata": {},
      "source": [
        "Answer: 0"
      ]
    },
    {
      "cell_type": "code",
      "execution_count": 84,
      "id": "24b62212",
      "metadata": {
        "id": "24b62212"
      },
      "outputs": [
        {
          "name": "stdout",
          "output_type": "stream",
          "text": [
            "0\n"
          ]
        }
      ],
      "source": [
        "allowOD = merged_df[merged_df['has_online_delivery'] == 1]\n",
        "print(allowOD.shape[0])\n"
      ]
    },
    {
      "cell_type": "markdown",
      "id": "7f2c7aa3",
      "metadata": {
        "id": "7f2c7aa3"
      },
      "source": [
        "10. Which locatlity has more expensive food? Poblacion or Salcedo Village? **(3pts)** Write down your answer and show code used to come up with the answer.\n"
      ]
    },
    {
      "cell_type": "code",
      "execution_count": 88,
      "id": "8fb7ce16",
      "metadata": {
        "id": "8fb7ce16"
      },
      "outputs": [
        {
          "name": "stdout",
          "output_type": "stream",
          "text": [
            "2.8214285714285716 2.871794871794872\n",
            "Salcedo Village is more expensive\n"
          ]
        }
      ],
      "source": [
        "p_df = merged_df[merged_df['locality'] == 'Poblacion']\n",
        "s_df = merged_df[merged_df['locality'] == 'Salcedo Village']\n",
        "\n",
        "aveP = p_df['price_range'].mean()\n",
        "aveS = s_df['price_range'].mean()\n",
        "print(aveP, aveS)\n",
        "\n",
        "if aveP > aveS:\n",
        "    print('Poblacion is more expensive')\n",
        "elif aveP < aveS:\n",
        "    print('Salcedo Village is more expensive')\n",
        "elif aveP == aveS:\n",
        "    print('Both are the same price')\n",
        "else:\n",
        "    print('Error')"
      ]
    }
  ],
  "metadata": {
    "colab": {
      "provenance": []
    },
    "kernelspec": {
      "display_name": "Python 3",
      "language": "python",
      "name": "python3"
    },
    "language_info": {
      "codemirror_mode": {
        "name": "ipython",
        "version": 3
      },
      "file_extension": ".py",
      "mimetype": "text/x-python",
      "name": "python",
      "nbconvert_exporter": "python",
      "pygments_lexer": "ipython3",
      "version": "3.12.0"
    }
  },
  "nbformat": 4,
  "nbformat_minor": 5
}
